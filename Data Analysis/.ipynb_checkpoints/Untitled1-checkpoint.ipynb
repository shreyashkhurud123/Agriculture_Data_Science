{
 "cells": [
  {
   "cell_type": "code",
   "execution_count": null,
   "id": "7bc5c656",
   "metadata": {},
   "outputs": [],
   "source": [
    "import pandas as pd\n",
    "import numpy as np\n",
    "import matplotlib.pyplot as plt\n",
    "import seaborn as sns\n",
    "import os\n",
    "\n",
    "input_folder = '\\\\'.join(os.getcwd().split('\\\\')[:-1] ) + '\\\\Output\\\\'\n",
    "\n",
    "# Load cleaned weather data\n",
    "weather_data = pd.read_csv(input_folder+'Cleaned_USA_Crop_Data.csv')\n",
    "\n",
    "# Load cleaned agriculture data\n",
    "agriculture_data = pd.read_csv(input_folder+'Cleaned_USA_Weather_Data.csv')\n"
   ]
  }
 ],
 "metadata": {
  "kernelspec": {
   "display_name": "Python 3 (ipykernel)",
   "language": "python",
   "name": "python3"
  },
  "language_info": {
   "codemirror_mode": {
    "name": "ipython",
    "version": 3
   },
   "file_extension": ".py",
   "mimetype": "text/x-python",
   "name": "python",
   "nbconvert_exporter": "python",
   "pygments_lexer": "ipython3",
   "version": "3.11.5"
  }
 },
 "nbformat": 4,
 "nbformat_minor": 5
}
